{
 "cells": [
  {
   "cell_type": "markdown",
   "metadata": {
    "kernel": "markdown"
   },
   "source": [
    "# Ejemplo: Una Especialización de Matriz"
   ]
  },
  {
   "cell_type": "code",
   "execution_count": null,
   "metadata": {
    "kernel": "Python3",
    "scrolled": true
   },
   "outputs": [],
   "source": [
    "%%python\n",
    "import  iplantuml"
   ]
  },
  {
   "cell_type": "code",
   "execution_count": null,
   "metadata": {
    "jupyter": {
     "source_hidden": true
    },
    "kernel": "Python3"
   },
   "outputs": [],
   "source": [
    "%%python\n",
    "%%plantuml \n",
    "\n",
    "@startuml\n",
    "\n",
    "\n",
    "Vector : + Object elementAt(int)\n",
    "Vector : + set(int,Object)\n",
    "\n",
    "Matrix  *-- Vector\n",
    "\n",
    "Matrix : - int columns,rows\n",
    "Matrix : + Object at(int,int)\n",
    "Matrix : + put(int,int,Object)\n",
    "MatrixWithoutNull : + put(int,int,Object)\n",
    "\n",
    "Matrix <|-- MatrixWithoutNull\n",
    "\n",
    "@enduml"
   ]
  },
  {
   "cell_type": "code",
   "execution_count": null,
   "metadata": {
    "kernel": "java",
    "scrolled": true
   },
   "outputs": [],
   "source": [
    "import java.util.*; \n",
    "public class Matrix \n",
    "{\n",
    "  /** Vector que almacena los elementos de la matriz*/\n",
    "  private Vector elements;\n",
    "\n",
    "  /** dimensiones de la matriz */\n",
    "  private int rows, columns;\n",
    "\n",
    "  /** constructor por defecto que crea una matriz de 3x3 */\n",
    "  public Matrix() {\n",
    "    this(3,3);\n",
    "  }\n",
    "\n",
    " /** constructor que crea una matriz de rows x columns de elementos null\n",
    "  * @param rows cantida de filas\n",
    "  * @param columns cantidad de columnas\n",
    "  */\n",
    "  \n",
    "  public Matrix(int rows, int columns)\n",
    "  {\n",
    "    this.rows=rows;\n",
    "    this.columns=columns;\n",
    "    elements= new Vector(rows);\n",
    "    for (int i=0 ; i < rows; i++) {\n",
    "      Vector aux=new Vector(columns);\n",
    "      for (int j=0; j < columns; j++) \n",
    "        aux.add(j,null);\n",
    "      elements.add(i,aux);\n",
    "    }\n",
    "  }\n",
    "\n",
    "public Object at(int i, int j) {\n",
    "    return ((Vector)elements.elementAt(i)).elementAt(j);\n",
    "    }\n",
    "\n",
    "public void put(int i, int j,Object o)  {\n",
    "    ((Vector)elements.elementAt(i)).set(j,o);\n",
    "}\n",
    "\n",
    "public int rows() \n",
    "{\n",
    "    return rows;\n",
    "}\n",
    "\n",
    "public int columns() \n",
    "{\n",
    "  return columns; }\n",
    "\n",
    "public String toString() {\n",
    "    \n",
    "    return super.toString() + elements.toString();\n",
    "  }\n",
    "}    "
   ]
  },
  {
   "cell_type": "markdown",
   "metadata": {},
   "source": [
    "## La subclase MatrixWithoutNull es una especializacion de Matrix que no permite setear elementos nulos (salvo cuando es creada)"
   ]
  },
  {
   "cell_type": "code",
   "execution_count": null,
   "metadata": {
    "kernel": "java",
    "scrolled": true
   },
   "outputs": [],
   "source": [
    "public class MatrixWithoutNull extends Matrix  {\n",
    "  public MatrixWithoutNull() {\n",
    "      this(3,3);\n",
    "  }\n",
    "\n",
    "  public MatrixWithoutNull(int i, int j) {\n",
    "  super(i,j);\n",
    "  }\n",
    "\n",
    "  public void put(int i, int j,Object o) {\n",
    "    if (o != null ) super.put(i,j,o);\n",
    "}\n",
    "}"
   ]
  },
  {
   "cell_type": "markdown",
   "metadata": {},
   "source": [
    "## Cree una MatrixWithoutNull y pruebe accediendo y modificando elementos"
   ]
  },
  {
   "cell_type": "code",
   "execution_count": null,
   "metadata": {},
   "outputs": [],
   "source": [
    "..."
   ]
  },
  {
   "cell_type": "markdown",
   "metadata": {},
   "source": [
    "## Declare una referencia de tipo Matrix  que referencie a una instancia de MatrixWithoutNull y pruebe accediendo y modificando elementos"
   ]
  },
  {
   "cell_type": "code",
   "execution_count": null,
   "metadata": {},
   "outputs": [],
   "source": [
    "...."
   ]
  },
  {
   "cell_type": "markdown",
   "metadata": {},
   "source": [
    "## Declare una referencia de tipo MatrixWithoutNull  que referencie a una instancia de MatrixWithoutNull y pruebe accediendo y modificando elementos"
   ]
  },
  {
   "cell_type": "code",
   "execution_count": null,
   "metadata": {},
   "outputs": [],
   "source": [
    "...."
   ]
  },
  {
   "cell_type": "markdown",
   "metadata": {},
   "source": [
    "## Declare una referencia de tipo MatrixWithoutNull  que referencie a una instancia de Matrix y pruebe accediendo y modificando elementos"
   ]
  },
  {
   "cell_type": "code",
   "execution_count": null,
   "metadata": {},
   "outputs": [],
   "source": [
    "...."
   ]
  },
  {
   "cell_type": "markdown",
   "metadata": {},
   "source": [
    "## Analice que pasa en cada caso y determine que mecanismos de la POO intervienen en cada caso. "
   ]
  },
  {
   "cell_type": "code",
   "execution_count": null,
   "metadata": {},
   "outputs": [],
   "source": []
  }
 ],
 "metadata": {
  "kernelspec": {
   "display_name": "Java",
   "language": "java",
   "name": "java"
  },
  "language_info": {
   "codemirror_mode": "text/x-java",
   "file_extension": ".java",
   "mimetype": "",
   "name": "Java",
   "nbconverter_exporter": "",
   "version": "1.8.0_152-release"
  },
  "sos": {
   "kernels": [
    [
     "Python3",
     "python3",
     "Python3",
     "#FFD91A",
     {
      "name": "ipython",
      "version": 3
     }
    ],
    [
     "java",
     "java",
     "java",
     "",
     "java"
    ]
   ],
   "panel": {
    "displayed": true,
    "height": 0
   },
   "version": "0.19.7"
  }
 },
 "nbformat": 4,
 "nbformat_minor": 4
}
