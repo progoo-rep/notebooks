{
 "cells": [
  {
   "cell_type": "markdown",
   "metadata": {
    "kernel": "markdown"
   },
   "source": [
    "# Herencia vs Composición "
   ]
  },
  {
   "cell_type": "code",
   "execution_count": null,
   "metadata": {
    "kernel": "Python3",
    "scrolled": true
   },
   "outputs": [],
   "source": [
    "%%python\n",
    "import  iplantuml"
   ]
  },
  {
   "cell_type": "code",
   "execution_count": null,
   "metadata": {
    "jupyter": {
     "source_hidden": true
    },
    "kernel": "Python3"
   },
   "outputs": [],
   "source": [
    "%%python\n",
    "%%plantuml \n",
    "\n",
    "@startuml\n",
    "Vector <|-- MatrixVect\n",
    "\n",
    "Vector : + Object elementAt(int)\n",
    "Vector : + set(int,Object)\n",
    "MatrixVect : - int columns,rows\n",
    "MatrixVect : + Object at(int,int)\n",
    "MatrixVect : + put(int,int,Object)\n",
    "\n",
    "Matrix  *-- Vector\n",
    "\n",
    "Matrix : - int columns,rows\n",
    "Matrix : + Object at(int,int)\n",
    "Matrix : + put(int,int,Object)\n",
    "\n",
    "@enduml"
   ]
  },
  {
   "cell_type": "code",
   "execution_count": null,
   "metadata": {},
   "outputs": [],
   "source": [
    "import java.util.*; \n",
    "public class MatrixVect extends Vector  {\n",
    "\n",
    "  /** dimensiones de la matriz */\n",
    "  private int rows, columns;\n",
    "\n",
    "  /** constructor por defecto que crea una matriz de 3x3 */\n",
    "  public MatrixVect() {\n",
    "    this(3,3);\n",
    "  }\n",
    "\n",
    "\n",
    "public MatrixVect(int rows, int columns)\n",
    "  {\n",
    "    super(rows*columns);\n",
    "    this.rows=rows;\n",
    "    this.columns=columns;\n",
    "    \n",
    "    for (int i=0 ; i < rows*columns; i++) {\n",
    "        this.add(i,null);\n",
    "    }\n",
    "  }\n",
    "    \n",
    "public Object at(int i, int j) {\n",
    "    return this.elementAt(i*columns()+j);\n",
    "    }\n",
    "\n",
    "public void put(int i, int j,Object o)  {\n",
    "        this.set(i*columns()+j,o);\n",
    "}\n",
    "\n",
    "public int rows() \n",
    "{\n",
    "    return rows;\n",
    "}\n",
    "\n",
    "public int columns() \n",
    "{\n",
    "  return columns; \n",
    "}\n",
    "    \n",
    "} "
   ]
  },
  {
   "cell_type": "code",
   "execution_count": null,
   "metadata": {
    "kernel": "java",
    "scrolled": true
   },
   "outputs": [],
   "source": [
    "import java.util.*; \n",
    "public class Matrix \n",
    "{\n",
    "  /** Vector que almacena los elementos de la matriz*/\n",
    "  private Vector elements;\n",
    "\n",
    "  /** dimensiones de la matriz */\n",
    "  private int rows, columns;\n",
    "\n",
    "  /** constructor por defecto que crea una matriz de 3x3 */\n",
    "  public Matrix() {\n",
    "    this(3,3);\n",
    "  }\n",
    "\n",
    " /** constructor que crea una matriz de rows x columns de elementos null\n",
    "  * @param rows cantida de filas\n",
    "  * @param columns cantidad de columnas\n",
    "  */\n",
    "  \n",
    "  public Matrix(int rows, int columns)\n",
    "  {\n",
    "    this.rows=rows;\n",
    "    this.columns=columns;\n",
    "    elements= new Vector(rows);\n",
    "    for (int i=0 ; i < rows; i++) {\n",
    "      Vector aux=new Vector(columns);\n",
    "      for (int j=0; j < columns; j++) \n",
    "        aux.add(j,null);\n",
    "      elements.add(i,aux);\n",
    "    }\n",
    "  }\n",
    "\n",
    "public Object at(int i, int j) {\n",
    "    return ((Vector)elements.elementAt(i)).elementAt(j);\n",
    "    }\n",
    "\n",
    "public void put(int i, int j,Object o)  {\n",
    "    ((Vector)elements.elementAt(i)).set(j,o);\n",
    "}\n",
    "\n",
    "public int rows() \n",
    "{\n",
    "    return rows;\n",
    "}\n",
    "\n",
    "public int columns() \n",
    "{\n",
    "  return columns; }\n",
    "\n",
    "public String toString() {\n",
    "    \n",
    "    return super.toString() + elements.toString();\n",
    "  }\n",
    "}    "
   ]
  },
  {
   "cell_type": "markdown",
   "metadata": {},
   "source": [
    "## Cree una MatrizVect (Herencia) y una Matrix (Composicion) y pruebe acceder y modificar elementos de dichas matrices."
   ]
  },
  {
   "cell_type": "code",
   "execution_count": null,
   "metadata": {
    "kernel": "java",
    "scrolled": true
   },
   "outputs": [],
   "source": [
    "...."
   ]
  },
  {
   "cell_type": "markdown",
   "metadata": {},
   "source": [
    "## Pruebe de utilizar los método elementAt(1) y setElement(1,\"hello)\" en MAtrixVect e imprime resultados"
   ]
  },
  {
   "cell_type": "code",
   "execution_count": null,
   "metadata": {},
   "outputs": [],
   "source": [
    "...."
   ]
  },
  {
   "cell_type": "markdown",
   "metadata": {},
   "source": [
    "## ¿ Que pasa en el caso de Matrix ? ¿ Cual es la solución correcta?"
   ]
  },
  {
   "cell_type": "markdown",
   "metadata": {},
   "source": [
    "# Herencia vs Composición \n",
    "## Alternativa 1 – herencia de implementación:\n",
    "\n",
    "* Una matriz hereda operaciones publicas que no deberían ser provistas a un cliente externo\n",
    "* La implementación no se puede cambiar\n",
    "\n",
    "## Alternativa 2 – Diseño orientado por el comportamiento\n",
    "* Solo el comportamiento especifico de la abstracción es accedido\n",
    "* La implementación puede ser variada\n",
    "\n",
    "## La herencia de Implementación resulta en diseños muy difíciles de mantener y adaptar..."
   ]
  }
 ],
 "metadata": {
  "kernelspec": {
   "display_name": "Java",
   "language": "java",
   "name": "java"
  },
  "language_info": {
   "codemirror_mode": "text/x-java",
   "file_extension": ".java",
   "mimetype": "",
   "name": "Java",
   "nbconverter_exporter": "",
   "version": "1.8.0_152-release"
  },
  "sos": {
   "kernels": [
    [
     "Python3",
     "python3",
     "Python3",
     "#FFD91A",
     {
      "name": "ipython",
      "version": 3
     }
    ],
    [
     "java",
     "java",
     "java",
     "",
     "java"
    ]
   ],
   "panel": {
    "displayed": true,
    "height": 0
   },
   "version": "0.19.7"
  }
 },
 "nbformat": 4,
 "nbformat_minor": 4
}
