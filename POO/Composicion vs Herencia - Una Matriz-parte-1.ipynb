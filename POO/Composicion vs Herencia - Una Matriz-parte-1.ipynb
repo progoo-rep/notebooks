{
 "cells": [
  {
   "cell_type": "markdown",
   "metadata": {
    "kernel": "markdown"
   },
   "source": [
    "# Alternativa 1: Heredar de una colección de objetos con métodos para acceder por índice\n",
    "\n",
    "## Herencia: Mecanismo de abstracción, clasificación,extensión y reuso.\n",
    "\n",
    "* Mecanismo de abstracción que puede ser utilizado para clasificar entidades\n",
    "* Es tanto un mecanismo de reuso tanto a nivel de programación como de diseño"
   ]
  },
  {
   "cell_type": "code",
   "execution_count": null,
   "metadata": {
    "kernel": "Python3",
    "scrolled": true
   },
   "outputs": [],
   "source": [
    "%%python\n",
    "import  iplantuml"
   ]
  },
  {
   "cell_type": "code",
   "execution_count": null,
   "metadata": {
    "jupyter": {
     "source_hidden": true
    },
    "kernel": "Python3"
   },
   "outputs": [],
   "source": [
    "%%python\n",
    "%%plantuml \n",
    "\n",
    "@startuml\n",
    "Vector <|-- Matrix\n",
    "\n",
    "Vector : + Object elementAt(int)\n",
    "Vector : + set(int,Object)\n",
    "Matrix : - int columns,rows\n",
    "Matrix : + Object at(int,int)\n",
    "Matrix : + put(int,int,Object)\n",
    "\n",
    "@enduml"
   ]
  },
  {
   "cell_type": "code",
   "execution_count": null,
   "metadata": {
    "kernel": "java",
    "scrolled": true
   },
   "outputs": [],
   "source": [
    "import java.util.*; \n",
    "public class Matrix extends Vector  {\n",
    "\n",
    "  /** dimensiones de la matriz */\n",
    "  private int rows, columns;\n",
    "\n",
    "  /** constructor por defecto que crea una matriz de 3x3 */\n",
    "  public Matrix() {\n",
    "    this(3,3);\n",
    "  }\n",
    "\n",
    "\n",
    "public Matrix(int rows, int columns)\n",
    "  {\n",
    "    super(rows*columns);\n",
    "    this.rows=rows;\n",
    "    this.columns=columns;\n",
    "    \n",
    "    for (int i=0 ; i < rows*columns; i++) {\n",
    "        this.add(i,null);\n",
    "    }\n",
    "  }\n",
    "    \n",
    "public Object at(int i, int j) {\n",
    "    return this.elementAt(i*columns()+j);\n",
    "    }\n",
    "\n",
    "public void put(int i, int j,Object o)  {\n",
    "        this.set(i*columns()+j,o);\n",
    "}\n",
    "\n",
    "public int rows() \n",
    "{\n",
    "    return rows;\n",
    "}\n",
    "\n",
    "public int columns() \n",
    "{\n",
    "  return columns; \n",
    "}\n",
    "    \n",
    "} "
   ]
  },
  {
   "cell_type": "code",
   "execution_count": null,
   "metadata": {
    "kernel": "java",
    "scrolled": true
   },
   "outputs": [],
   "source": [
    "Matrix m= new Matrix();\n",
    "System.out.println(m);"
   ]
  },
  {
   "cell_type": "markdown",
   "metadata": {},
   "source": [
    "##Cree una matriz de 2x2, en la posicion (1,0) setee \"hola\" y recupere el Objeto de la posicion (0,0). Imprima la matriz"
   ]
  },
  {
   "cell_type": "code",
   "execution_count": null,
   "metadata": {},
   "outputs": [],
   "source": []
  }
 ],
 "metadata": {
  "kernelspec": {
   "display_name": "Java",
   "language": "java",
   "name": "java"
  },
  "language_info": {
   "codemirror_mode": "text/x-java",
   "file_extension": ".java",
   "mimetype": "",
   "name": "Java",
   "nbconverter_exporter": "",
   "version": "1.8.0_152-release"
  },
  "sos": {
   "kernels": [
    [
     "Python3",
     "python3",
     "Python3",
     "#FFD91A",
     {
      "name": "ipython",
      "version": 3
     }
    ],
    [
     "java",
     "java",
     "java",
     "",
     "java"
    ]
   ],
   "panel": {
    "displayed": true,
    "height": 0
   },
   "version": "0.19.7"
  }
 },
 "nbformat": 4,
 "nbformat_minor": 4
}
