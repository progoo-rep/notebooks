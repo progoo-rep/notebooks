{
 "cells": [
  {
   "cell_type": "markdown",
   "metadata": {
    "kernel": "markdown"
   },
   "source": [
    "# Alternativa 2: Composición / Diseño orientado por el comportamiento\n",
    "\n",
    "## La Composición de objetos es una forma de combinar objetos en otros más complejos. \n",
    "\n",
    "* Delegamos responsabilidades en colaboradores designados para ello (en este caso en el Vector para almacenar los elementos de la matriz)\n"
   ]
  },
  {
   "cell_type": "code",
   "execution_count": 1,
   "metadata": {
    "kernel": "Python3",
    "scrolled": true
   },
   "outputs": [],
   "source": [
    "%%python\n",
    "import  iplantuml"
   ]
  },
  {
   "cell_type": "code",
   "execution_count": 4,
   "metadata": {
    "jupyter": {
     "source_hidden": true
    },
    "kernel": "Python3"
   },
   "outputs": [
    {
     "data": {
      "image/svg+xml": [
       "<svg contentScriptType=\"application/ecmascript\" contentStyleType=\"text/css\" height=\"238px\" preserveAspectRatio=\"none\" style=\"width:162px;height:238px;\" version=\"1.1\" viewBox=\"0 0 162 238\" width=\"162px\" xmlns=\"http://www.w3.org/2000/svg\" xmlns:xlink=\"http://www.w3.org/1999/xlink\" zoomAndPan=\"magnify\"><defs><filter height=\"300%\" id=\"fz6lg3xpkk5c5\" width=\"300%\" x=\"-1\" y=\"-1\"><feGaussianBlur result=\"blurOut\" stdDeviation=\"2.0\"/><feColorMatrix in=\"blurOut\" result=\"blurOut2\" type=\"matrix\" values=\"0 0 0 0 0 0 0 0 0 0 0 0 0 0 0 0 0 0 .4 0\"/><feOffset dx=\"4.0\" dy=\"4.0\" in=\"blurOut2\" result=\"blurOut3\"/><feBlend in=\"SourceGraphic\" in2=\"blurOut3\" mode=\"normal\"/></filter></defs><g><!--MD5=[56f3777c4a342cd8020ffcf5f59f8034]\n",
       "class Matrix--><rect fill=\"#FEFECE\" filter=\"url(#fz6lg3xpkk5c5)\" height=\"86.4141\" id=\"Matrix\" style=\"stroke: #A80036; stroke-width: 1.5;\" width=\"124\" x=\"16.5\" y=\"8\"/><ellipse cx=\"56.25\" cy=\"24\" fill=\"#ADD1B2\" rx=\"11\" ry=\"11\" style=\"stroke: #A80036; stroke-width: 1.0;\"/><path d=\"M58.5938,19.6719 L58.7656,19.75 C58.9844,19.4375 59.1875,19.3438 59.4844,19.3438 C59.7813,19.3438 60.0625,19.4844 60.2188,19.75 C60.3125,19.9063 60.3281,20.0313 60.3281,20.4688 L60.3281,21.8906 C60.3281,22.3125 60.2969,22.5 60.1875,22.6563 C60.0156,22.875 59.75,23.0156 59.4844,23.0156 C59.2656,23.0156 59.0313,22.9063 58.8906,22.7656 C58.75,22.6406 58.7188,22.5156 58.6563,22.1094 C58.5625,21.7031 58.3906,21.4844 57.9063,21.2031 C57.4375,20.9531 56.8281,20.7969 56.25,20.7969 C54.5156,20.7969 53.2656,22.1094 53.2656,23.8906 L53.2656,24.9844 C53.2656,26.6875 54.5625,27.7813 56.6094,27.7813 C57.375,27.7813 58.0625,27.6563 58.4844,27.3906 C58.6719,27.2969 58.6719,27.2969 59.125,26.8125 C59.3125,26.625 59.5156,26.5469 59.7344,26.5469 C60.2031,26.5469 60.5938,26.9375 60.5938,27.3906 C60.5938,27.7813 60.2656,28.2344 59.6875,28.6406 C58.9375,29.1875 57.7813,29.4844 56.5625,29.4844 C53.6719,29.4844 51.5625,27.5938 51.5625,25.0156 L51.5625,23.8906 C51.5625,21.1719 53.5625,19.0938 56.1875,19.0938 C57.0625,19.0938 57.6563,19.2344 58.5938,19.6719 Z \"/><text fill=\"#000000\" font-family=\"sans-serif\" font-size=\"12\" lengthAdjust=\"spacingAndGlyphs\" textLength=\"37\" x=\"75.75\" y=\"28.1543\">Matrix</text><line style=\"stroke: #A80036; stroke-width: 1.5;\" x1=\"17.5\" x2=\"139.5\" y1=\"40\" y2=\"40\"/><rect fill=\"none\" height=\"6\" style=\"stroke: #C82930; stroke-width: 1.0;\" width=\"6\" x=\"24.5\" y=\"48\"/><text fill=\"#000000\" font-family=\"sans-serif\" font-size=\"11\" lengthAdjust=\"spacingAndGlyphs\" textLength=\"98\" x=\"36.5\" y=\"54.2104\">int columns,rows</text><line style=\"stroke: #A80036; stroke-width: 1.5;\" x1=\"17.5\" x2=\"139.5\" y1=\"60.8047\" y2=\"60.8047\"/><ellipse cx=\"27.5\" cy=\"71.8047\" fill=\"#84BE84\" rx=\"3\" ry=\"3\" style=\"stroke: #038048; stroke-width: 1.0;\"/><text fill=\"#000000\" font-family=\"sans-serif\" font-size=\"11\" lengthAdjust=\"spacingAndGlyphs\" textLength=\"91\" x=\"36.5\" y=\"75.0151\">Object at(int,int)</text><ellipse cx=\"27.5\" cy=\"84.6094\" fill=\"#84BE84\" rx=\"3\" ry=\"3\" style=\"stroke: #038048; stroke-width: 1.0;\"/><text fill=\"#000000\" font-family=\"sans-serif\" font-size=\"11\" lengthAdjust=\"spacingAndGlyphs\" textLength=\"98\" x=\"36.5\" y=\"87.8198\">put(int,int,Object)</text><!--MD5=[ea775af43a0da7cb543d6bee4ab62c40]\n",
       "class Vector--><rect fill=\"#FEFECE\" filter=\"url(#fz6lg3xpkk5c5)\" height=\"73.6094\" id=\"Vector\" style=\"stroke: #A80036; stroke-width: 1.5;\" width=\"145\" x=\"6\" y=\"154\"/><ellipse cx=\"53.75\" cy=\"170\" fill=\"#ADD1B2\" rx=\"11\" ry=\"11\" style=\"stroke: #A80036; stroke-width: 1.0;\"/><path d=\"M56.0938,165.6719 L56.2656,165.75 C56.4844,165.4375 56.6875,165.3438 56.9844,165.3438 C57.2813,165.3438 57.5625,165.4844 57.7188,165.75 C57.8125,165.9063 57.8281,166.0313 57.8281,166.4688 L57.8281,167.8906 C57.8281,168.3125 57.7969,168.5 57.6875,168.6563 C57.5156,168.875 57.25,169.0156 56.9844,169.0156 C56.7656,169.0156 56.5313,168.9063 56.3906,168.7656 C56.25,168.6406 56.2188,168.5156 56.1563,168.1094 C56.0625,167.7031 55.8906,167.4844 55.4063,167.2031 C54.9375,166.9531 54.3281,166.7969 53.75,166.7969 C52.0156,166.7969 50.7656,168.1094 50.7656,169.8906 L50.7656,170.9844 C50.7656,172.6875 52.0625,173.7813 54.1094,173.7813 C54.875,173.7813 55.5625,173.6563 55.9844,173.3906 C56.1719,173.2969 56.1719,173.2969 56.625,172.8125 C56.8125,172.625 57.0156,172.5469 57.2344,172.5469 C57.7031,172.5469 58.0938,172.9375 58.0938,173.3906 C58.0938,173.7813 57.7656,174.2344 57.1875,174.6406 C56.4375,175.1875 55.2813,175.4844 54.0625,175.4844 C51.1719,175.4844 49.0625,173.5938 49.0625,171.0156 L49.0625,169.8906 C49.0625,167.1719 51.0625,165.0938 53.6875,165.0938 C54.5625,165.0938 55.1563,165.2344 56.0938,165.6719 Z \"/><text fill=\"#000000\" font-family=\"sans-serif\" font-size=\"12\" lengthAdjust=\"spacingAndGlyphs\" textLength=\"41\" x=\"74.25\" y=\"174.1543\">Vector</text><line style=\"stroke: #A80036; stroke-width: 1.5;\" x1=\"7\" x2=\"150\" y1=\"186\" y2=\"186\"/><line style=\"stroke: #A80036; stroke-width: 1.5;\" x1=\"7\" x2=\"150\" y1=\"194\" y2=\"194\"/><ellipse cx=\"17\" cy=\"205\" fill=\"#84BE84\" rx=\"3\" ry=\"3\" style=\"stroke: #038048; stroke-width: 1.0;\"/><text fill=\"#000000\" font-family=\"sans-serif\" font-size=\"11\" lengthAdjust=\"spacingAndGlyphs\" textLength=\"119\" x=\"26\" y=\"208.2104\">Object elementAt(int)</text><ellipse cx=\"17\" cy=\"217.8047\" fill=\"#84BE84\" rx=\"3\" ry=\"3\" style=\"stroke: #038048; stroke-width: 1.0;\"/><text fill=\"#000000\" font-family=\"sans-serif\" font-size=\"11\" lengthAdjust=\"spacingAndGlyphs\" textLength=\"80\" x=\"26\" y=\"221.0151\">set(int,Object)</text><!--MD5=[ca55ed646f1e4b087f90c04bff87cac2]\n",
       "reverse link Matrix to Vector--><path d=\"M78.5,107.497 C78.5,123.055 78.5,139.566 78.5,153.697 \" fill=\"none\" id=\"Matrix&lt;-Vector\" style=\"stroke: #A80036; stroke-width: 1.0;\"/><polygon fill=\"#A80036\" points=\"78.5,94.154,74.5,100.154,78.5,106.154,82.5,100.154,78.5,94.154\" style=\"stroke: #A80036; stroke-width: 1.0;\"/><!--MD5=[bdaebb8c0c09d28794688aa104e73839]\n",
       "@startuml\n",
       "Matrix  *- - Vector\n",
       "\n",
       "Vector : + Object elementAt(int)\n",
       "Vector : + set(int,Object)\n",
       "Matrix : - int columns,rows\n",
       "Matrix : + Object at(int,int)\n",
       "Matrix : + put(int,int,Object)\n",
       "@enduml\n",
       "\n",
       "PlantUML version 1.2019.11(Sun Sep 22 10:02:15 UTC 2019)\n",
       "(GPL source distribution)\n",
       "Java Runtime: Java(TM) SE Runtime Environment\n",
       "JVM: Java HotSpot(TM) 64-Bit Server VM\n",
       "Java Version: 1.7.0_25-b15\n",
       "Operating System: Linux\n",
       "Default Encoding: UTF-8\n",
       "Language: en\n",
       "Country: US\n",
       "--></g></svg>"
      ],
      "text/plain": [
       "<IPython.core.display.SVG object>"
      ]
     },
     "execution_count": 3,
     "metadata": {},
     "output_type": "execute_result"
    }
   ],
   "source": [
    "%%python\n",
    "%%plantuml \n",
    "\n",
    "@startuml\n",
    "Matrix  *-- Vector\n",
    "\n",
    "Vector : + Object elementAt(int)\n",
    "Vector : + set(int,Object)\n",
    "Matrix : - int columns,rows\n",
    "Matrix : + Object at(int,int)\n",
    "Matrix : + put(int,int,Object)\n",
    "\n",
    "@enduml"
   ]
  },
  {
   "cell_type": "markdown",
   "metadata": {},
   "source": [
    "## Se podria implementar como en la parte 1 con una funcion enumeración para acceder a los elementos del Vector. Pero para ver otra implementación se realiza mediante un vector de vectores."
   ]
  },
  {
   "cell_type": "code",
   "execution_count": 9,
   "metadata": {
    "kernel": "java",
    "scrolled": true
   },
   "outputs": [
    {
     "data": {
      "text/plain": [
       "com.twosigma.beaker.javash.bkreffa4465.Matrix"
      ]
     },
     "execution_count": 9,
     "metadata": {},
     "output_type": "execute_result"
    }
   ],
   "source": [
    "import java.util.*; \n",
    "public class Matrix \n",
    "{\n",
    "  /** Vector que almacena los elementos de la matriz*/\n",
    "  private Vector elements;\n",
    "\n",
    "  /** dimensiones de la matriz */\n",
    "  private int rows, columns;\n",
    "\n",
    "  /** constructor por defecto que crea una matriz de 3x3 */\n",
    "  public Matrix() {\n",
    "    this(3,3);\n",
    "  }\n",
    "\n",
    " /** constructor que crea una matriz de rows x columns de elementos null\n",
    "  * @param rows cantida de filas\n",
    "  * @param columns cantidad de columnas\n",
    "  */\n",
    "  \n",
    "  public Matrix(int rows, int columns)\n",
    "  {\n",
    "    this.rows=rows;\n",
    "    this.columns=columns;\n",
    "    elements= new Vector(rows);\n",
    "    for (int i=0 ; i < rows; i++) {\n",
    "      Vector aux=new Vector(columns);\n",
    "      for (int j=0; j < columns; j++) \n",
    "        aux.add(j,null);\n",
    "      elements.add(i,aux);\n",
    "    }\n",
    "  }\n",
    "\n",
    "public Object at(int i, int j) {\n",
    "    return ((Vector)elements.elementAt(i)).elementAt(j);\n",
    "    }\n",
    "\n",
    "public void put(int i, int j,Object o)  {\n",
    "    ((Vector)elements.elementAt(i)).set(j,o);\n",
    "}\n",
    "\n",
    "public int rows() \n",
    "{\n",
    "    return rows;\n",
    "}\n",
    "\n",
    "public int columns() \n",
    "{\n",
    "  return columns; }\n",
    "\n",
    "public String toString() {\n",
    "    \n",
    "    return super.toString() + elements.toString();\n",
    "  }\n",
    "}    "
   ]
  },
  {
   "cell_type": "code",
   "execution_count": 10,
   "metadata": {
    "kernel": "java",
    "scrolled": true
   },
   "outputs": [
    {
     "name": "stdout",
     "output_type": "stream",
     "text": [
      "com.twosigma.beaker.javash.bkreffa4465.Matrix@6cd96ef2[[null, null, null], [null, null, null], [null, null, null]]\n"
     ]
    },
    {
     "data": {
      "text/plain": [
       "null"
      ]
     },
     "execution_count": 10,
     "metadata": {},
     "output_type": "execute_result"
    }
   ],
   "source": [
    "Matrix m= new Matrix();\n",
    "System.out.println(m);"
   ]
  },
  {
   "cell_type": "markdown",
   "metadata": {},
   "source": [
    "## Cree una matriz de 2x2, en la posicion (1,0) setee \"hola\" y recupere el Objeto de la posicion (0,0). Imprima la matriz"
   ]
  },
  {
   "cell_type": "code",
   "execution_count": null,
   "metadata": {},
   "outputs": [],
   "source": []
  }
 ],
 "metadata": {
  "kernelspec": {
   "display_name": "Java",
   "language": "java",
   "name": "java"
  },
  "language_info": {
   "codemirror_mode": "text/x-java",
   "file_extension": ".java",
   "mimetype": "",
   "name": "Java",
   "nbconverter_exporter": "",
   "version": "1.8.0_152-release"
  },
  "sos": {
   "kernels": [
    [
     "Python3",
     "python3",
     "Python3",
     "#FFD91A",
     {
      "name": "ipython",
      "version": 3
     }
    ],
    [
     "java",
     "java",
     "java",
     "",
     "java"
    ]
   ],
   "panel": {
    "displayed": true,
    "height": 0
   },
   "version": "0.19.7"
  }
 },
 "nbformat": 4,
 "nbformat_minor": 4
}
