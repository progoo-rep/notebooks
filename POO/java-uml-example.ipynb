{
 "cells": [
  {
   "cell_type": "code",
   "execution_count": 1,
   "metadata": {},
   "outputs": [],
   "source": [
    "%%python\n",
    "import iplantuml\n"
   ]
  },
  {
   "cell_type": "code",
   "execution_count": 2,
   "metadata": {},
   "outputs": [
    {
     "data": {
      "image/svg+xml": [
       "<svg contentScriptType=\"application/ecmascript\" contentStyleType=\"text/css\" height=\"156px\" preserveAspectRatio=\"none\" style=\"width:246px;height:156px;\" version=\"1.1\" viewBox=\"0 0 246 156\" width=\"246px\" xmlns=\"http://www.w3.org/2000/svg\" xmlns:xlink=\"http://www.w3.org/1999/xlink\" zoomAndPan=\"magnify\"><defs><filter height=\"300%\" id=\"fsv0g7ub4djg1\" width=\"300%\" x=\"-1\" y=\"-1\"><feGaussianBlur result=\"blurOut\" stdDeviation=\"2.0\"/><feColorMatrix in=\"blurOut\" result=\"blurOut2\" type=\"matrix\" values=\"0 0 0 0 0 0 0 0 0 0 0 0 0 0 0 0 0 0 .4 0\"/><feOffset dx=\"4.0\" dy=\"4.0\" in=\"blurOut2\" result=\"blurOut3\"/><feBlend in=\"SourceGraphic\" in2=\"blurOut3\" mode=\"normal\"/></filter></defs><g><line style=\"stroke: #A80036; stroke-width: 1.0; stroke-dasharray: 5.0,5.0;\" x1=\"33\" x2=\"33\" y1=\"38.2969\" y2=\"116.5625\"/><line style=\"stroke: #A80036; stroke-width: 1.0; stroke-dasharray: 5.0,5.0;\" x1=\"216\" x2=\"216\" y1=\"38.2969\" y2=\"116.5625\"/><rect fill=\"#FEFECE\" filter=\"url(#fsv0g7ub4djg1)\" height=\"30.2969\" style=\"stroke: #A80036; stroke-width: 1.5;\" width=\"46\" x=\"8\" y=\"3\"/><text fill=\"#000000\" font-family=\"sans-serif\" font-size=\"14\" lengthAdjust=\"spacingAndGlyphs\" textLength=\"32\" x=\"15\" y=\"22.9951\">Alice</text><rect fill=\"#FEFECE\" filter=\"url(#fsv0g7ub4djg1)\" height=\"30.2969\" style=\"stroke: #A80036; stroke-width: 1.5;\" width=\"46\" x=\"8\" y=\"115.5625\"/><text fill=\"#000000\" font-family=\"sans-serif\" font-size=\"14\" lengthAdjust=\"spacingAndGlyphs\" textLength=\"32\" x=\"15\" y=\"135.5576\">Alice</text><rect fill=\"#FEFECE\" filter=\"url(#fsv0g7ub4djg1)\" height=\"30.2969\" style=\"stroke: #A80036; stroke-width: 1.5;\" width=\"42\" x=\"193\" y=\"3\"/><text fill=\"#000000\" font-family=\"sans-serif\" font-size=\"14\" lengthAdjust=\"spacingAndGlyphs\" textLength=\"28\" x=\"200\" y=\"22.9951\">Bob</text><rect fill=\"#FEFECE\" filter=\"url(#fsv0g7ub4djg1)\" height=\"30.2969\" style=\"stroke: #A80036; stroke-width: 1.5;\" width=\"42\" x=\"193\" y=\"115.5625\"/><text fill=\"#000000\" font-family=\"sans-serif\" font-size=\"14\" lengthAdjust=\"spacingAndGlyphs\" textLength=\"28\" x=\"200\" y=\"135.5576\">Bob</text><polygon fill=\"#A80036\" points=\"204,65.4297,214,69.4297,204,73.4297,208,69.4297\" style=\"stroke: #A80036; stroke-width: 1.0;\"/><line style=\"stroke: #A80036; stroke-width: 1.0;\" x1=\"33\" x2=\"210\" y1=\"69.4297\" y2=\"69.4297\"/><text fill=\"#000000\" font-family=\"sans-serif\" font-size=\"13\" lengthAdjust=\"spacingAndGlyphs\" textLength=\"149\" x=\"40\" y=\"64.3638\">Authentication Request</text><polygon fill=\"#A80036\" points=\"44,94.5625,34,98.5625,44,102.5625,40,98.5625\" style=\"stroke: #A80036; stroke-width: 1.0;\"/><line style=\"stroke: #A80036; stroke-width: 1.0; stroke-dasharray: 2.0,2.0;\" x1=\"38\" x2=\"215\" y1=\"98.5625\" y2=\"98.5625\"/><text fill=\"#000000\" font-family=\"sans-serif\" font-size=\"13\" lengthAdjust=\"spacingAndGlyphs\" textLength=\"159\" x=\"50\" y=\"93.4966\">Authentication Response</text><!--MD5=[91e8ab13d416ea54b5ec30323a5c7675]\n",
       "@startuml\n",
       "Alice -> Bob: Authentication Request\n",
       "Bob - -> Alice: Authentication Response\n",
       "@enduml\n",
       "\n",
       "PlantUML version 1.2019.11(Sun Sep 22 10:02:15 UTC 2019)\n",
       "(GPL source distribution)\n",
       "Java Runtime: Java(TM) SE Runtime Environment\n",
       "JVM: Java HotSpot(TM) 64-Bit Server VM\n",
       "Java Version: 1.7.0_25-b15\n",
       "Operating System: Linux\n",
       "Default Encoding: UTF-8\n",
       "Language: en\n",
       "Country: US\n",
       "--></g></svg>"
      ],
      "text/plain": [
       "<IPython.core.display.SVG object>"
      ]
     },
     "execution_count": 2,
     "metadata": {},
     "output_type": "execute_result"
    }
   ],
   "source": [
    "%%python\n",
    "%%plantuml\n",
    "\n",
    "@startuml\n",
    "Alice -> Bob: Authentication Request\n",
    "Bob --> Alice: Authentication Response\n",
    "@enduml"
   ]
  },
  {
   "cell_type": "code",
   "execution_count": 5,
   "metadata": {},
   "outputs": [
    {
     "name": "stdout",
     "output_type": "stream",
     "text": [
      "hello\n"
     ]
    },
    {
     "data": {
      "text/plain": [
       "null"
      ]
     },
     "execution_count": 5,
     "metadata": {},
     "output_type": "execute_result"
    }
   ],
   "source": [
    "System.out.println(\"hello\");"
   ]
  }
 ],
 "metadata": {
  "kernelspec": {
   "display_name": "Java",
   "language": "java",
   "name": "java"
  },
  "language_info": {
   "codemirror_mode": "text/x-java",
   "file_extension": ".java",
   "mimetype": "",
   "name": "Java",
   "nbconverter_exporter": "",
   "version": "1.8.0_152-release"
  },
  "toc": {
   "base_numbering": 1,
   "nav_menu": {},
   "number_sections": false,
   "sideBar": false,
   "skip_h1_title": false,
   "title_cell": "Table of Contents",
   "title_sidebar": "Contents",
   "toc_cell": false,
   "toc_position": {},
   "toc_section_display": false,
   "toc_window_display": false
  }
 },
 "nbformat": 4,
 "nbformat_minor": 2
}
