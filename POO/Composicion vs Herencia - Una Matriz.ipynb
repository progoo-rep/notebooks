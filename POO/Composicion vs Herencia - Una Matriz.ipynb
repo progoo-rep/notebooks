{
 "cells": [
  {
   "cell_type": "markdown",
   "metadata": {
    "kernel": "markdown"
   },
   "source": [
    "# Alternativa 1: Heredar de una colección de objetos con métodos para acceder por índice\n",
    "\n",
    "%Mecanismo de abstracción, clasificación,extensión y reuso.\n",
    "* Mecanismo de abstracción que puede ser utilizado para clasificar entidades\n",
    "* Es tanto un mecanismo de reuso tanto a nivel de programación como de diseño"
   ]
  },
  {
   "cell_type": "code",
   "execution_count": 1,
   "metadata": {
    "kernel": "Python3",
    "scrolled": true
   },
   "outputs": [],
   "source": [
    "%%python\n",
    "import  iplantuml"
   ]
  },
  {
   "cell_type": "code",
   "execution_count": 2,
   "metadata": {
    "jupyter": {
     "source_hidden": true
    },
    "kernel": "Python3"
   },
   "outputs": [
    {
     "data": {
      "image/svg+xml": [
       "<svg contentScriptType=\"application/ecmascript\" contentStyleType=\"text/css\" height=\"239px\" preserveAspectRatio=\"none\" style=\"width:162px;height:239px;\" version=\"1.1\" viewBox=\"0 0 162 239\" width=\"162px\" xmlns=\"http://www.w3.org/2000/svg\" xmlns:xlink=\"http://www.w3.org/1999/xlink\" zoomAndPan=\"magnify\"><defs><filter height=\"300%\" id=\"f9nqlmrfv0d39\" width=\"300%\" x=\"-1\" y=\"-1\"><feGaussianBlur result=\"blurOut\" stdDeviation=\"2.0\"/><feColorMatrix in=\"blurOut\" result=\"blurOut2\" type=\"matrix\" values=\"0 0 0 0 0 0 0 0 0 0 0 0 0 0 0 0 0 0 .4 0\"/><feOffset dx=\"4.0\" dy=\"4.0\" in=\"blurOut2\" result=\"blurOut3\"/><feBlend in=\"SourceGraphic\" in2=\"blurOut3\" mode=\"normal\"/></filter></defs><g><!--MD5=[ea775af43a0da7cb543d6bee4ab62c40]\n",
       "class Vector--><rect fill=\"#FEFECE\" filter=\"url(#f9nqlmrfv0d39)\" height=\"73.6094\" id=\"Vector\" style=\"stroke: #A80036; stroke-width: 1.5;\" width=\"145\" x=\"6\" y=\"8\"/><ellipse cx=\"53.75\" cy=\"24\" fill=\"#ADD1B2\" rx=\"11\" ry=\"11\" style=\"stroke: #A80036; stroke-width: 1.0;\"/><path d=\"M56.0938,19.6719 L56.2656,19.75 C56.4844,19.4375 56.6875,19.3438 56.9844,19.3438 C57.2813,19.3438 57.5625,19.4844 57.7188,19.75 C57.8125,19.9063 57.8281,20.0313 57.8281,20.4688 L57.8281,21.8906 C57.8281,22.3125 57.7969,22.5 57.6875,22.6563 C57.5156,22.875 57.25,23.0156 56.9844,23.0156 C56.7656,23.0156 56.5313,22.9063 56.3906,22.7656 C56.25,22.6406 56.2188,22.5156 56.1563,22.1094 C56.0625,21.7031 55.8906,21.4844 55.4063,21.2031 C54.9375,20.9531 54.3281,20.7969 53.75,20.7969 C52.0156,20.7969 50.7656,22.1094 50.7656,23.8906 L50.7656,24.9844 C50.7656,26.6875 52.0625,27.7813 54.1094,27.7813 C54.875,27.7813 55.5625,27.6563 55.9844,27.3906 C56.1719,27.2969 56.1719,27.2969 56.625,26.8125 C56.8125,26.625 57.0156,26.5469 57.2344,26.5469 C57.7031,26.5469 58.0938,26.9375 58.0938,27.3906 C58.0938,27.7813 57.7656,28.2344 57.1875,28.6406 C56.4375,29.1875 55.2813,29.4844 54.0625,29.4844 C51.1719,29.4844 49.0625,27.5938 49.0625,25.0156 L49.0625,23.8906 C49.0625,21.1719 51.0625,19.0938 53.6875,19.0938 C54.5625,19.0938 55.1563,19.2344 56.0938,19.6719 Z \"/><text fill=\"#000000\" font-family=\"sans-serif\" font-size=\"12\" lengthAdjust=\"spacingAndGlyphs\" textLength=\"41\" x=\"74.25\" y=\"28.1543\">Vector</text><line style=\"stroke: #A80036; stroke-width: 1.5;\" x1=\"7\" x2=\"150\" y1=\"40\" y2=\"40\"/><line style=\"stroke: #A80036; stroke-width: 1.5;\" x1=\"7\" x2=\"150\" y1=\"48\" y2=\"48\"/><ellipse cx=\"17\" cy=\"59\" fill=\"#84BE84\" rx=\"3\" ry=\"3\" style=\"stroke: #038048; stroke-width: 1.0;\"/><text fill=\"#000000\" font-family=\"sans-serif\" font-size=\"11\" lengthAdjust=\"spacingAndGlyphs\" textLength=\"119\" x=\"26\" y=\"62.2104\">Object elementAt(int)</text><ellipse cx=\"17\" cy=\"71.8047\" fill=\"#84BE84\" rx=\"3\" ry=\"3\" style=\"stroke: #038048; stroke-width: 1.0;\"/><text fill=\"#000000\" font-family=\"sans-serif\" font-size=\"11\" lengthAdjust=\"spacingAndGlyphs\" textLength=\"80\" x=\"26\" y=\"75.0151\">set(int,Object)</text><!--MD5=[56f3777c4a342cd8020ffcf5f59f8034]\n",
       "class Matrix--><rect fill=\"#FEFECE\" filter=\"url(#f9nqlmrfv0d39)\" height=\"86.4141\" id=\"Matrix\" style=\"stroke: #A80036; stroke-width: 1.5;\" width=\"124\" x=\"16.5\" y=\"142\"/><ellipse cx=\"56.25\" cy=\"158\" fill=\"#ADD1B2\" rx=\"11\" ry=\"11\" style=\"stroke: #A80036; stroke-width: 1.0;\"/><path d=\"M58.5938,153.6719 L58.7656,153.75 C58.9844,153.4375 59.1875,153.3438 59.4844,153.3438 C59.7813,153.3438 60.0625,153.4844 60.2188,153.75 C60.3125,153.9063 60.3281,154.0313 60.3281,154.4688 L60.3281,155.8906 C60.3281,156.3125 60.2969,156.5 60.1875,156.6563 C60.0156,156.875 59.75,157.0156 59.4844,157.0156 C59.2656,157.0156 59.0313,156.9063 58.8906,156.7656 C58.75,156.6406 58.7188,156.5156 58.6563,156.1094 C58.5625,155.7031 58.3906,155.4844 57.9063,155.2031 C57.4375,154.9531 56.8281,154.7969 56.25,154.7969 C54.5156,154.7969 53.2656,156.1094 53.2656,157.8906 L53.2656,158.9844 C53.2656,160.6875 54.5625,161.7813 56.6094,161.7813 C57.375,161.7813 58.0625,161.6563 58.4844,161.3906 C58.6719,161.2969 58.6719,161.2969 59.125,160.8125 C59.3125,160.625 59.5156,160.5469 59.7344,160.5469 C60.2031,160.5469 60.5938,160.9375 60.5938,161.3906 C60.5938,161.7813 60.2656,162.2344 59.6875,162.6406 C58.9375,163.1875 57.7813,163.4844 56.5625,163.4844 C53.6719,163.4844 51.5625,161.5938 51.5625,159.0156 L51.5625,157.8906 C51.5625,155.1719 53.5625,153.0938 56.1875,153.0938 C57.0625,153.0938 57.6563,153.2344 58.5938,153.6719 Z \"/><text fill=\"#000000\" font-family=\"sans-serif\" font-size=\"12\" lengthAdjust=\"spacingAndGlyphs\" textLength=\"37\" x=\"75.75\" y=\"162.1543\">Matrix</text><line style=\"stroke: #A80036; stroke-width: 1.5;\" x1=\"17.5\" x2=\"139.5\" y1=\"174\" y2=\"174\"/><rect fill=\"none\" height=\"6\" style=\"stroke: #C82930; stroke-width: 1.0;\" width=\"6\" x=\"24.5\" y=\"182\"/><text fill=\"#000000\" font-family=\"sans-serif\" font-size=\"11\" lengthAdjust=\"spacingAndGlyphs\" textLength=\"98\" x=\"36.5\" y=\"188.2104\">int columns,rows</text><line style=\"stroke: #A80036; stroke-width: 1.5;\" x1=\"17.5\" x2=\"139.5\" y1=\"194.8047\" y2=\"194.8047\"/><ellipse cx=\"27.5\" cy=\"205.8047\" fill=\"#84BE84\" rx=\"3\" ry=\"3\" style=\"stroke: #038048; stroke-width: 1.0;\"/><text fill=\"#000000\" font-family=\"sans-serif\" font-size=\"11\" lengthAdjust=\"spacingAndGlyphs\" textLength=\"91\" x=\"36.5\" y=\"209.0151\">Object at(int,int)</text><ellipse cx=\"27.5\" cy=\"218.6094\" fill=\"#84BE84\" rx=\"3\" ry=\"3\" style=\"stroke: #038048; stroke-width: 1.0;\"/><text fill=\"#000000\" font-family=\"sans-serif\" font-size=\"11\" lengthAdjust=\"spacingAndGlyphs\" textLength=\"98\" x=\"36.5\" y=\"221.8198\">put(int,int,Object)</text><!--MD5=[9040ac66754646b84e834c232a99a4d2]\n",
       "reverse link Vector to Matrix--><path d=\"M78.5,102.619 C78.5,115.659 78.5,129.3087 78.5,141.6223 \" fill=\"none\" id=\"Vector&lt;-Matrix\" style=\"stroke: #A80036; stroke-width: 1.0;\"/><polygon fill=\"none\" points=\"71.5001,102.258,78.5,82.258,85.5001,102.258,71.5001,102.258\" style=\"stroke: #A80036; stroke-width: 1.0;\"/><!--MD5=[346e8d7059a5314d54b27102dd100a96]\n",
       "@startuml\n",
       "Vector <|- - Matrix\n",
       "\n",
       "Vector : + Object elementAt(int)\n",
       "Vector : + set(int,Object)\n",
       "Matrix : - int columns,rows\n",
       "Matrix : + Object at(int,int)\n",
       "Matrix : + put(int,int,Object)\n",
       "@enduml\n",
       "\n",
       "PlantUML version 1.2019.11(Sun Sep 22 10:02:15 UTC 2019)\n",
       "(GPL source distribution)\n",
       "Java Runtime: Java(TM) SE Runtime Environment\n",
       "JVM: Java HotSpot(TM) 64-Bit Server VM\n",
       "Java Version: 1.7.0_25-b15\n",
       "Operating System: Linux\n",
       "Default Encoding: UTF-8\n",
       "Language: en\n",
       "Country: US\n",
       "--></g></svg>"
      ],
      "text/plain": [
       "<IPython.core.display.SVG object>"
      ]
     },
     "execution_count": 2,
     "metadata": {},
     "output_type": "execute_result"
    }
   ],
   "source": [
    "%%python\n",
    "%%plantuml \n",
    "\n",
    "@startuml\n",
    "Vector <|-- Matrix\n",
    "\n",
    "Vector : + Object elementAt(int)\n",
    "Vector : + set(int,Object)\n",
    "Matrix : - int columns,rows\n",
    "Matrix : + Object at(int,int)\n",
    "Matrix : + put(int,int,Object)\n",
    "\n",
    "@enduml"
   ]
  },
  {
   "cell_type": "code",
   "execution_count": 6,
   "metadata": {
    "kernel": "java"
   },
   "outputs": [
    {
     "data": {
      "text/plain": [
       "com.twosigma.beaker.javash.bkrccd6606f.Matrix"
      ]
     },
     "execution_count": 6,
     "metadata": {},
     "output_type": "execute_result"
    }
   ],
   "source": [
    "import java.util.*; \n",
    "public class Matrix extends Vector  {\n",
    "\n",
    "  /** dimensiones de la matriz */\n",
    "  private int rows, columns;\n",
    "\n",
    "  /** constructor por defecto que crea una matriz de 3x3 */\n",
    "  public Matrix() {\n",
    "    this(3,3);\n",
    "  }\n",
    "\n",
    "\n",
    "public Matrix(int rows, int columns)\n",
    "  {\n",
    "    super(rows*columns);\n",
    "    this.rows=rows;\n",
    "    this.columns=columns;\n",
    "    \n",
    "    for (int i=0 ; i < rows*columns; i++) {\n",
    "        this.add(i,null);\n",
    "    }\n",
    "  }\n",
    "} "
   ]
  },
  {
   "cell_type": "code",
   "execution_count": 8,
   "metadata": {
    "kernel": "java"
   },
   "outputs": [
    {
     "name": "stdout",
     "output_type": "stream",
     "text": [
      "[null, null, null, null, null, null, null, null, null]\n"
     ]
    },
    {
     "data": {
      "text/plain": [
       "null"
      ]
     },
     "execution_count": 8,
     "metadata": {},
     "output_type": "execute_result"
    }
   ],
   "source": [
    "Matrix m= new Matrix();\n",
    "System.out.println(m);"
   ]
  }
 ],
 "metadata": {
  "kernelspec": {
   "display_name": "Java",
   "language": "java",
   "name": "java"
  },
  "language_info": {
   "codemirror_mode": "text/x-java",
   "file_extension": ".java",
   "mimetype": "",
   "name": "Java",
   "nbconverter_exporter": "",
   "version": "1.8.0_152-release"
  },
  "sos": {
   "kernels": [
    [
     "Python3",
     "python3",
     "Python3",
     "#FFD91A",
     {
      "name": "ipython",
      "version": 3
     }
    ],
    [
     "java",
     "java",
     "java",
     "",
     "java"
    ]
   ],
   "panel": {
    "displayed": true,
    "height": 0
   },
   "version": "0.19.7"
  }
 },
 "nbformat": 4,
 "nbformat_minor": 4
}
